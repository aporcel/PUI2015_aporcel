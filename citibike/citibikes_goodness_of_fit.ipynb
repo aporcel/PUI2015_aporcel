{
 "cells": [
  {
   "cell_type": "markdown",
   "metadata": {
    "collapsed": true
   },
   "source": [
    "#Assignment 3:\n",
    "    test if the distribution of ages can be modelled by a Gaussian\n",
    "    \n",
    "    1) all riders\n",
    "    \n",
    "    2) summer riders vs winder riders\n",
    "    \n",
    "    use 2 tests, you can use KS, AD, or get creative. use KL or chi2 like you did in Assignment2 or perhaps new ones!\n",
    "    \n",
    "    CHALLANGE! look for a better distribution to fit the data! see notes on how to input a number of different \n",
    "    distributions into the test, not just 'norm' and the few others available by keyword"
   ]
  },
  {
   "cell_type": "markdown",
   "metadata": {},
   "source": [
    "my usual imports and setups"
   ]
  },
  {
   "cell_type": "code",
   "execution_count": 3,
   "metadata": {
    "collapsed": false,
    "scrolled": true
   },
   "outputs": [
    {
     "name": "stdout",
     "output_type": "stream",
     "text": [
      "Populating the interactive namespace from numpy and matplotlib\n"
     ]
    }
   ],
   "source": [
    "import pylab as pl\n",
    "import pandas as pd\n",
    "import numpy as np\n",
    "%pylab inline\n",
    "\n",
    "import os\n",
    "\n",
    "#this makes my plots pretty! but it is totally not mandatory to do it\n",
    "#import json\n",
    "#s = json.load( open(os.getenv ('PUI2015')+\"/fbb_matplotlibrc.json\") )\n",
    "#pl.rcParams.update(s)\n",
    "\n",
    "#i know i will use scipy for the tests\n",
    "import scipy.stats"
   ]
  },
  {
   "cell_type": "markdown",
   "metadata": {},
   "source": [
    "I need 2 seasons, lets start reading in data from January 2015, and June 2015. \n",
    "One month is not a season. You should import data from other months in the winter as well, and then several summer months to get the other distribution. I am being lazy but you should not be. \n",
    "\n"
   ]
  },
  {
   "cell_type": "code",
   "execution_count": 5,
   "metadata": {
    "collapsed": false,
    "scrolled": false
   },
   "outputs": [
    {
     "name": "stdout",
     "output_type": "stream",
     "text": [
      "Index([u'tripduration', u'starttime', u'stoptime', u'start station id',\n",
      "       u'start station name', u'start station latitude',\n",
      "       u'start station longitude', u'end station id', u'end station name',\n",
      "       u'end station latitude', u'end station longitude', u'bikeid',\n",
      "       u'usertype', u'birth year', u'gender'],\n",
      "      dtype='object')\n"
     ]
    }
   ],
   "source": [
    "df_W=pd.read_csv(os.getenv ('PUI2015')+'/data/2014-01 - Citi Bike trip data.csv')\n",
    "print df_W.columns\n",
    "df_S=pd.read_csv(os.getenv ('PUI2015')+'/data/2014-06 - Citi Bike trip data.csv')\n"
   ]
  },
  {
   "cell_type": "markdown",
   "metadata": {},
   "source": [
    "## get the age like we did before, subscribers only cause otherwise the ages are really sparse anyways\n"
   ]
  },
  {
   "cell_type": "code",
   "execution_count": 6,
   "metadata": {
    "collapsed": false
   },
   "outputs": [],
   "source": [
    "#df is the dataframe where the content of the csv file is stored\n",
    "df_W['birth year'] = df_W['birth year'].convert_objects(convert_numeric=True)\n",
    "df_S['birth year'] = df_S['birth year'].convert_objects(convert_numeric=True)\n",
    "df_W['age'] = 2015-df_W['birth year'][(df_W['usertype'] == 'Subscriber')]\n",
    "df_S['age'] = 2015-df_S['birth year'][(df_S['usertype'] == 'Subscriber')]"
   ]
  },
  {
   "cell_type": "markdown",
   "metadata": {},
   "source": [
    "lets split age in 10 year bins. see the comment in assignment 1 about this"
   ]
  },
  {
   "cell_type": "code",
   "execution_count": 7,
   "metadata": {
    "collapsed": false
   },
   "outputs": [
    {
     "data": {
      "image/png": "[encoded data removed]",
      "text/plain": [
       "<matplotlib.figure.Figure at 0x10439d8d0>"
      ]
     },
     "metadata": {},
     "output_type": "display_data"
    },
    {
     "data": {
      "image/png": "[encoded data removed]",
      "text/plain": [
       "<matplotlib.figure.Figure at 0x1092c4bd0>"
      ]
     },
     "metadata": {},
     "output_type": "display_data"
    }
   ],
   "source": [
    "bins = np.arange(10, 99, 10)\n",
    "df_W.age.groupby(pd.cut(df_W.age, bins)).agg([count_nonzero]).plot(kind='bar', title=\"Winter\")\n",
    "W_age_dist = df_W.age.groupby(pd.cut(df_W.age, bins)).agg([count_nonzero])\n",
    "df_S.age.groupby(pd.cut(df_S.age, bins)).agg([count_nonzero]).plot(kind='bar', title=\"Summer\")\n",
    "S_age_dist = df_S.age.groupby(pd.cut(df_S.age, bins)).agg([count_nonzero])\n",
    "    "
   ]
  },
  {
   "cell_type": "markdown",
   "metadata": {},
   "source": [
    "how do they look? what should I expect? setting some expectation is useful as a sanity check!"
   ]
  },
  {
   "cell_type": "markdown",
   "metadata": {},
   "source": [
    "They look very similar, exect for the total count"
   ]
  },
  {
   "cell_type": "markdown",
   "metadata": {},
   "source": [
    "lets run the scipy KS test"
   ]
  },
  {
   "cell_type": "markdown",
   "metadata": {
    "collapsed": true
   },
   "source": [
    "#KS testsfor goodness of fit\n",
    "\n",
    "http://docs.scipy.org/doc/scipy/reference/generated/scipy.stats.kstest.html"
   ]
  },
  {
   "cell_type": "code",
   "execution_count": 8,
   "metadata": {
    "collapsed": false
   },
   "outputs": [
    {
     "name": "stdout",
     "output_type": "stream",
     "text": [
      "winter, normal fit (1.0, 0.0)\n",
      "summer, normal fit (1.0, 0.0)\n",
      "winter, normal fit (0.99999678205074782, 0.0)\n",
      "summer, normal fit (0.99999888459475861, 0.0)\n"
     ]
    }
   ],
   "source": [
    "#compare to normal\n",
    "\n",
    "ksW=scipy.stats.kstest(W_age_dist, 'norm')\n",
    "ksS=scipy.stats.kstest(S_age_dist, 'norm')\n",
    "print \"winter, normal fit\", ksW\n",
    "print \"summer, normal fit\", ksS\n",
    "\n",
    "#compare to poisson \n",
    "\n",
    "ksW=scipy.stats.kstest(W_age_dist, 'cauchy')\n",
    "ksS=scipy.stats.kstest(S_age_dist, 'cauchy')\n",
    "print \"winter, normal fit\", ksW\n",
    "print \"summer, normal fit\", ksS"
   ]
  },
  {
   "cell_type": "markdown",
   "metadata": {},
   "source": [
    "the scipy KS test works with keywords only for scipy.stats distributions \n",
    "that take as a single argument the size of the sample, like norm and cauchy look them up to make sure I am right!\n",
    "if i want to test against a distribution which takes more arguments like Poisson, which in scipy.stats takes the \n",
    "lambda parameter and the size (2 arguments) i can pass the extra arguments in arg, like i do below: "
   ]
  },
  {
   "cell_type": "code",
   "execution_count": 9,
   "metadata": {
    "collapsed": false
   },
   "outputs": [
    {
     "name": "stdout",
     "output_type": "stream",
     "text": [
      "winter, normal fit (1.0, 0.0)\n",
      "summer, normal fit (1.0, 0.0)\n"
     ]
    }
   ],
   "source": [
    "ksW=scipy.stats.kstest(W_age_dist, 'gamma', args=(35,))\n",
    "ksS=scipy.stats.kstest(S_age_dist, 'gamma', args=(35,))\n",
    "\n",
    "print \"winter, normal fit\", ksW\n",
    "print \"summer, normal fit\", ksS"
   ]
  },
  {
   "cell_type": "markdown",
   "metadata": {},
   "source": [
    "or i can create my function separately, then call it: all i need to do is define a function that calls  like i am doing below. the size argument must come first, and the second argument of kstest will no longer be a string, but the function itself (what we would call a \"callable\")"
   ]
  },
  {
   "cell_type": "code",
   "execution_count": 10,
   "metadata": {
    "collapsed": false
   },
   "outputs": [],
   "source": [
    "def mydistribution(size, m0, m1):\n",
    "    #this is a crazy dumb function, but i am trying to make a point here...\n",
    "    return (np.empty_like(size)+1) * m0 **2"
   ]
  },
  {
   "cell_type": "code",
   "execution_count": 11,
   "metadata": {
    "collapsed": false
   },
   "outputs": [
    {
     "name": "stdout",
     "output_type": "stream",
     "text": [
      "winter, normal fit (349586825.0, nan)\n",
      "summer, normal fit (121174550.0, nan)\n"
     ]
    }
   ],
   "source": [
    "ksW=scipy.stats.kstest(W_age_dist, mydistribution, args=(35,38))\n",
    "ksS=scipy.stats.kstest(S_age_dist, mydistribution, args=(35,38))\n",
    "\n",
    "print \"winter, normal fit\", ksW\n",
    "print \"summer, normal fit\", ksS"
   ]
  },
  {
   "cell_type": "markdown",
   "metadata": {},
   "source": [
    "##TODO FOR YOU!\n",
    "\n",
    "-- repeat with the AD test, and/or any other tests you wish\n",
    "\n",
    "-- do you see differences in the sample? significant differences?\n",
    "\n",
    "-- do you dare (and this is indeed optional but could be fun) splitting the samples by up- and down-town?"
   ]
  },
  {
   "cell_type": "code",
   "execution_count": 12,
   "metadata": {
    "collapsed": false
   },
   "outputs": [
    {
     "name": "stdout",
     "output_type": "stream",
     "text": [
      "[[  1.55800000e+03   6.38410000e+04   9.89170000e+04   7.00170000e+04\n",
      "    4.38010000e+04   1.33190000e+04   1.46700000e+03   7.50000000e+01]]\n"
     ]
    }
   ],
   "source": [
    "print W_age_dist.values.transpose()"
   ]
  },
  {
   "cell_type": "code",
   "execution_count": 13,
   "metadata": {
    "collapsed": false
   },
   "outputs": [
    {
     "name": "stdout",
     "output_type": "stream",
     "text": [
      "winter, normal fit (0.45963919721663871, array([ 0.519,  0.591,  0.709,  0.827,  0.984]), array([ 15. ,  10. ,   5. ,   2.5,   1. ]))\n",
      "summer, normal fit (0.47204156855093871, array([ 0.519,  0.591,  0.709,  0.827,  0.984]), array([ 15. ,  10. ,   5. ,   2.5,   1. ]))\n"
     ]
    }
   ],
   "source": [
    "\n",
    "age_sum = S_age_dist.as_matrix()[:,0]\n",
    "age_win = W_age_dist.as_matrix()[:,0]\n",
    "\n",
    "ADS = scipy.stats.anderson(age_sum, dist='norm')\n",
    "ADW = scipy.stats.anderson(age_win, dist='norm')\n",
    "\n",
    "print \"winter, normal fit\", ADW\n",
    "print \"summer, normal fit\", ADS\n",
    "\n",
    "#Acoording to this results there is no fit, R is very low, and its correspondant p-value should be greater than 15%"
   ]
  },
  {
   "cell_type": "code",
   "execution_count": 14,
   "metadata": {
    "collapsed": false
   },
   "outputs": [
    {
     "name": "stdout",
     "output_type": "stream",
     "text": [
      "[ 0.98808656] [  4.18950839e-06]\n"
     ]
    }
   ],
   "source": [
    "#Pearson Test\n",
    "distW = df_W.age.groupby(pd.cut(df_W.age, bins)).agg([count_nonzero])\n",
    "distS = df_S.age.groupby(pd.cut(df_S.age, bins)).agg([count_nonzero])\n",
    "mW = distW.mean()\n",
    "mS = distS.mean()\n",
    "stdW = distW.std()\n",
    "stdS = distS.std()\n",
    "normW = (distW - mW)/stdW\n",
    "normS = (distS - mS)/stdS\n",
    "r, pv = scipy.stats.pearsonr(normW, normS)\n",
    "print r, pv"
   ]
  },
  {
   "cell_type": "code",
   "execution_count": null,
   "metadata": {
    "collapsed": true
   },
   "outputs": [],
   "source": [
    "#This last result give us a way of think that the distributions are correlated"
   ]
  }
 ],
 "metadata": {
  "kernelspec": {
   "display_name": "Python 2",
   "language": "python",
   "name": "python2"
  },
  "language_info": {
   "codemirror_mode": {
    "name": "ipython",
    "version": 2
   },
   "file_extension": ".py",
   "mimetype": "text/x-python",
   "name": "python",
   "nbconvert_exporter": "python",
   "pygments_lexer": "ipython2",
   "version": "2.7.10"
  }
 },
 "nbformat": 4,
 "nbformat_minor": 0
}
