{
 "cells": [
  {
   "cell_type": "markdown",
   "metadata": {},
   "source": [
    "<H1>Effect of the Brigthness of the Moon in the Duration of Trips of Citibike in New York City during Summer</H1>"
   ]
  },
  {
   "cell_type": "markdown",
   "metadata": {},
   "source": [
    "<strong><h2>Introduction</h2></strong>\n",
    "\n",
    "It has been told that the Moon affects the behavior of animals and people, but nobody have ever asked if it affects the behavior of cyclist in New York City. This research studies if the Moon has some effects in the behavior of the user of the New York City rental program Citibike."
   ]
  },
  {
   "cell_type": "markdown",
   "metadata": {},
   "source": [
    "<strong><H2>Hyphotesis</H2></strong>\n",
    "\n",
    "<strong>Null Hyphothesis:</strong>  The Moon in Summer doesn't have signifcant effect in the night time Citbike durations of trips.\n",
    "\n",
    "<strong>Alternative Hyphotesis:</strong> The Moon in Summer have significant effect in the night time Citibike durations of trips."
   ]
  },
  {
   "cell_type": "markdown",
   "metadata": {},
   "source": [
    "<H2>Research Design</H2>\n",
    "<ol>\n",
    "<li>Coverage Area:</li>  The sample was taken from all boroughs where Citbike operated during summer. \n",
    "<li>Sample Techniques</li>  For the purpose of this project only ridership at night was analysis for the month July and August from the 2013 and 2014. \n",
    "<li>Metadata</li>The moon information was collected from <ul> <li>\"Moon phases for New York, New York, U.S.A\", accessed October 1, 2015. http://www.timeanddate.com/moon/phases/usa/new-york?year=2015</li> <li>\"Fraction of the Moon Illumantion\",last modified 18 may 2015. http://aa.usno.navy.mil/data/docs/MoonFraction.php</li>\n",
    "<li>\"Data of sunrise and sunset for defining the nights in the period\"accessed October 1, 2014. http://www.timeanddate.com/sun/usa/new-york?month=8&year=2015 </li>\n"
   ]
  },
  {
   "cell_type": "markdown",
   "metadata": {},
   "source": [
    "<H2>Statistic Analysis</H2>\n",
    "<ol>\n",
    "<li>Confidence Leve:</li>  The confidence was 5%.\n",
    "<li>Statistic Test:</li>  The project used T-test and the p value as the determinant factor if there is correlation between Moon cycles and number riderships of Citibike.\n",
    "<li>Factors to be Analized</li>  Total Numbers of riderships during night time."
   ]
  },
  {
   "cell_type": "code",
   "execution_count": 1,
   "metadata": {
    "collapsed": false
   },
   "outputs": [
    {
     "name": "stdout",
     "output_type": "stream",
     "text": [
      "Populating the interactive namespace from numpy and matplotlib\n"
     ]
    }
   ],
   "source": [
    "#Import of libraries\n",
    "import numpy as np\n",
    "from numpy import random\n",
    "from scipy import stats\n",
    "import matplotlib.pyplot as plt\n",
    "%pylab inline\n",
    "import pandas as pd\n",
    "import statsmodels.formula.api as smf\n",
    "import urllib\n",
    "import seaborn as sn"
   ]
  },
  {
   "cell_type": "code",
   "execution_count": 5,
   "metadata": {
    "collapsed": false
   },
   "outputs": [],
   "source": [
    "#Import of Data to Python\n",
    "bike=pd.read_csv('moondata.csv', header=0)"
   ]
  },
  {
   "cell_type": "code",
   "execution_count": 6,
   "metadata": {
    "collapsed": false
   },
   "outputs": [
    {
     "name": "stdout",
     "output_type": "stream",
     "text": [
      "         Date  Quantity  Durations  MoonIllumination\n",
      "0  2014-07-01      5488    4551658              0.13\n",
      "1  2014-07-02      2261    1649657              0.20\n",
      "2  2014-07-03      1839    1382932              0.29\n",
      "3  2014-07-04      3995    4307680              0.38\n",
      "4  2014-07-05      4269    4152536              0.47\n"
     ]
    }
   ],
   "source": [
    "#Verification of the transfer data\n",
    "print bike.head()"
   ]
  },
  {
   "cell_type": "code",
   "execution_count": 7,
   "metadata": {
    "collapsed": false
   },
   "outputs": [
    {
     "data": {
      "text/html": [
       "<div>\n",
       "<table border=\"1\" class=\"dataframe\">\n",
       "  <thead>\n",
       "    <tr style=\"text-align: right;\">\n",
       "      <th></th>\n",
       "      <th>Quantity</th>\n",
       "      <th>Durations</th>\n",
       "      <th>MoonIllumination</th>\n",
       "    </tr>\n",
       "  </thead>\n",
       "  <tbody>\n",
       "    <tr>\n",
       "      <th>count</th>\n",
       "      <td>62.000000</td>\n",
       "      <td>62.000000</td>\n",
       "      <td>62.000000</td>\n",
       "    </tr>\n",
       "    <tr>\n",
       "      <th>mean</th>\n",
       "      <td>4550.290323</td>\n",
       "      <td>3856161.838710</td>\n",
       "      <td>0.455000</td>\n",
       "    </tr>\n",
       "    <tr>\n",
       "      <th>std</th>\n",
       "      <td>968.128182</td>\n",
       "      <td>895272.684369</td>\n",
       "      <td>0.348734</td>\n",
       "    </tr>\n",
       "    <tr>\n",
       "      <th>min</th>\n",
       "      <td>994.000000</td>\n",
       "      <td>644861.000000</td>\n",
       "      <td>0.000000</td>\n",
       "    </tr>\n",
       "    <tr>\n",
       "      <th>25%</th>\n",
       "      <td>4330.000000</td>\n",
       "      <td>3683281.500000</td>\n",
       "      <td>0.130000</td>\n",
       "    </tr>\n",
       "    <tr>\n",
       "      <th>50%</th>\n",
       "      <td>4777.500000</td>\n",
       "      <td>4150869.500000</td>\n",
       "      <td>0.400000</td>\n",
       "    </tr>\n",
       "    <tr>\n",
       "      <th>75%</th>\n",
       "      <td>5114.250000</td>\n",
       "      <td>4364377.250000</td>\n",
       "      <td>0.792500</td>\n",
       "    </tr>\n",
       "    <tr>\n",
       "      <th>max</th>\n",
       "      <td>6046.000000</td>\n",
       "      <td>4956646.000000</td>\n",
       "      <td>1.000000</td>\n",
       "    </tr>\n",
       "  </tbody>\n",
       "</table>\n",
       "</div>"
      ],
      "text/plain": [
       "          Quantity       Durations  MoonIllumination\n",
       "count    62.000000       62.000000         62.000000\n",
       "mean   4550.290323  3856161.838710          0.455000\n",
       "std     968.128182   895272.684369          0.348734\n",
       "min     994.000000   644861.000000          0.000000\n",
       "25%    4330.000000  3683281.500000          0.130000\n",
       "50%    4777.500000  4150869.500000          0.400000\n",
       "75%    5114.250000  4364377.250000          0.792500\n",
       "max    6046.000000  4956646.000000          1.000000"
      ]
     },
     "execution_count": 7,
     "metadata": {},
     "output_type": "execute_result"
    }
   ],
   "source": [
    "#Summary of Data:\n",
    "bike.describe()"
   ]
  },
  {
   "cell_type": "code",
   "execution_count": 8,
   "metadata": {
    "collapsed": false
   },
   "outputs": [
    {
     "name": "stdout",
     "output_type": "stream",
     "text": [
      "0     0.13\n",
      "1     0.20\n",
      "2     0.29\n",
      "3     0.38\n",
      "4     0.47\n",
      "5     0.57\n",
      "6     0.67\n",
      "7     0.77\n",
      "8     0.85\n",
      "9     0.93\n",
      "10    0.97\n",
      "11    1.00\n",
      "12    0.99\n",
      "13    0.95\n",
      "14    0.89\n",
      "15    0.80\n",
      "16    0.70\n",
      "17    0.60\n",
      "18    0.49\n",
      "19    0.38\n",
      "20    0.29\n",
      "21    0.20\n",
      "22    0.13\n",
      "23    0.07\n",
      "24    0.03\n",
      "25    0.01\n",
      "26    0.00\n",
      "27    0.02\n",
      "28    0.05\n",
      "29    0.09\n",
      "      ... \n",
      "32    0.32\n",
      "33    0.42\n",
      "34    0.52\n",
      "35    0.62\n",
      "36    0.73\n",
      "37    0.82\n",
      "38    0.90\n",
      "39    0.96\n",
      "40    0.99\n",
      "41    1.00\n",
      "42    0.97\n",
      "43    0.91\n",
      "44    0.83\n",
      "45    0.74\n",
      "46    0.64\n",
      "47    0.53\n",
      "48    0.43\n",
      "49    0.33\n",
      "50    0.24\n",
      "51    0.17\n",
      "52    0.10\n",
      "53    0.05\n",
      "54    0.02\n",
      "55    0.00\n",
      "56    0.00\n",
      "57    0.02\n",
      "58    0.06\n",
      "59    0.12\n",
      "60    0.19\n",
      "61    0.27\n",
      "Name: MoonIllumination, dtype: float64\n"
     ]
    }
   ],
   "source": [
    "#Creation of a X value to be analyzed\n",
    "x = bike['MoonIllumination']\n",
    "print x"
   ]
  },
  {
   "cell_type": "code",
   "execution_count": 9,
   "metadata": {
    "collapsed": false
   },
   "outputs": [
    {
     "name": "stdout",
     "output_type": "stream",
     "text": [
      "0     4551658\n",
      "1     1649657\n",
      "2     1382932\n",
      "3     4307680\n",
      "4     4152536\n",
      "5     4163327\n",
      "6     4294195\n",
      "7     3744139\n",
      "8     4324833\n",
      "9     4734605\n",
      "10    4209280\n",
      "11    4680330\n",
      "12    4045826\n",
      "13     644861\n",
      "14    1292603\n",
      "15    4856234\n",
      "16    4956646\n",
      "17    4333493\n",
      "18    4926658\n",
      "19    4742763\n",
      "20    4382822\n",
      "21    4611437\n",
      "22    2765983\n",
      "23    4548881\n",
      "24    4179892\n",
      "25    4608894\n",
      "26    4374672\n",
      "27    3753055\n",
      "28    4113595\n",
      "29    4539120\n",
      "       ...   \n",
      "32    3942108\n",
      "33    3794319\n",
      "34    3836116\n",
      "35    4292641\n",
      "36    4524629\n",
      "37    4466025\n",
      "38    4165526\n",
      "39    4599463\n",
      "40    4206581\n",
      "41    3829094\n",
      "42    2032324\n",
      "43    3588576\n",
      "44    4169877\n",
      "45    3393554\n",
      "46    4275772\n",
      "47    4149203\n",
      "48    3899980\n",
      "49    4060168\n",
      "50    4331151\n",
      "51    3443501\n",
      "52    3006995\n",
      "53    3614499\n",
      "54    3650148\n",
      "55    3689340\n",
      "56    3930466\n",
      "57    3681262\n",
      "58    3751464\n",
      "59    3029561\n",
      "60    3144684\n",
      "61    2730123\n",
      "Name: Durations, dtype: int64\n"
     ]
    }
   ],
   "source": [
    "#Creation of a y value to be analyzed\n",
    "y = bike['Durations']\n",
    "print y"
   ]
  },
  {
   "cell_type": "code",
   "execution_count": 10,
   "metadata": {
    "collapsed": false
   },
   "outputs": [
    {
     "name": "stdout",
     "output_type": "stream",
     "text": [
      "[[ 3838653.72844554]\n",
      " [   38479.36321788]]\n"
     ]
    }
   ],
   "source": [
    "#To obtain slope and intercept\n",
    "X=np.matrix(pd.DataFrame({'intercept':[1]*len(x),'x1':x}))\n",
    "Y=np.matrix(y).transpose()\n",
    "w=pow((X.transpose()*X),-1)*X.transpose()*Y\n",
    "print(w)"
   ]
  },
  {
   "cell_type": "code",
   "execution_count": 11,
   "metadata": {
    "collapsed": false
   },
   "outputs": [
    {
     "name": "stdout",
     "output_type": "stream",
     "text": [
      "                            OLS Regression Results                            \n",
      "==============================================================================\n",
      "Dep. Variable:              Durations   R-squared:                       0.000\n",
      "Model:                            OLS   Adj. R-squared:                 -0.016\n",
      "Method:                 Least Squares   F-statistic:                   0.01348\n",
      "Date:                Sun, 04 Oct 2015   Prob (F-statistic):              0.908\n",
      "Time:                        23:14:06   Log-Likelihood:                -937.17\n",
      "No. Observations:                  62   AIC:                             1878.\n",
      "Df Residuals:                      60   BIC:                             1883.\n",
      "Df Model:                           1                                         \n",
      "Covariance Type:            nonrobust                                         \n",
      "====================================================================================\n",
      "                       coef    std err          t      P>|t|      [95.0% Conf. Int.]\n",
      "------------------------------------------------------------------------------------\n",
      "Intercept         3.839e+06   1.89e+05     20.267      0.000      3.46e+06  4.22e+06\n",
      "MoonIllumination  3.848e+04   3.31e+05      0.116      0.908     -6.24e+05  7.01e+05\n",
      "==============================================================================\n",
      "Omnibus:                       31.721   Durbin-Watson:                   1.292\n",
      "Prob(Omnibus):                  0.000   Jarque-Bera (JB):               58.752\n",
      "Skew:                          -1.789   Prob(JB):                     1.75e-13\n",
      "Kurtosis:                       6.153   Cond. No.                         3.55\n",
      "==============================================================================\n",
      "\n",
      "Warnings:\n",
      "[1] Standard Errors assume that the covariance matrix of the errors is correctly specified.\n"
     ]
    },
    {
     "data": {
      "text/plain": [
       "[<matplotlib.lines.Line2D at 0x108518e90>]"
      ]
     },
     "execution_count": 11,
     "metadata": {},
     "output_type": "execute_result"
    },
    {
     "data": {
      "image/png": "[encoded data removed]",
      "text/plain": [
       "<matplotlib.figure.Figure at 0x108345e90>"
      ]
     },
     "metadata": {},
     "output_type": "display_data"
    }
   ],
   "source": [
    "#To obtain regression, anlysis of the regression and ploting of graph:\n",
    "lm = smf.ols(formula='Durations ~ MoonIllumination', data = bike).fit()\n",
    "print(lm.summary())\n",
    "lmy = lm.predict(bike)\n",
    "xlabel('Moon Illumination')\n",
    "ylabel('Trip Duration')\n",
    "plt.plot(lmy,x,'or')\n",
    "plt.plot(lmy,lmy,'-b')"
   ]
  },
  {
   "cell_type": "code",
   "execution_count": 12,
   "metadata": {
    "collapsed": false
   },
   "outputs": [
    {
     "data": {
      "text/html": [
       "<table class=\"simpletable\">\n",
       "<caption>OLS Regression Results</caption>\n",
       "<tr>\n",
       "  <th>Dep. Variable:</th>        <td>Durations</td>    <th>  R-squared:         </th> <td>   0.000</td>\n",
       "</tr>\n",
       "<tr>\n",
       "  <th>Model:</th>                   <td>OLS</td>       <th>  Adj. R-squared:    </th> <td>  -0.016</td>\n",
       "</tr>\n",
       "<tr>\n",
       "  <th>Method:</th>             <td>Least Squares</td>  <th>  F-statistic:       </th> <td> 0.01348</td>\n",
       "</tr>\n",
       "<tr>\n",
       "  <th>Date:</th>             <td>Sun, 04 Oct 2015</td> <th>  Prob (F-statistic):</th>  <td> 0.908</td> \n",
       "</tr>\n",
       "<tr>\n",
       "  <th>Time:</th>                 <td>23:14:08</td>     <th>  Log-Likelihood:    </th> <td> -937.17</td>\n",
       "</tr>\n",
       "<tr>\n",
       "  <th>No. Observations:</th>      <td>    62</td>      <th>  AIC:               </th> <td>   1878.</td>\n",
       "</tr>\n",
       "<tr>\n",
       "  <th>Df Residuals:</th>          <td>    60</td>      <th>  BIC:               </th> <td>   1883.</td>\n",
       "</tr>\n",
       "<tr>\n",
       "  <th>Df Model:</th>              <td>     1</td>      <th>                     </th>     <td> </td>   \n",
       "</tr>\n",
       "<tr>\n",
       "  <th>Covariance Type:</th>      <td>nonrobust</td>    <th>                     </th>     <td> </td>   \n",
       "</tr>\n",
       "</table>\n",
       "<table class=\"simpletable\">\n",
       "<tr>\n",
       "          <td></td>            <th>coef</th>     <th>std err</th>      <th>t</th>      <th>P>|t|</th> <th>[95.0% Conf. Int.]</th> \n",
       "</tr>\n",
       "<tr>\n",
       "  <th>Intercept</th>        <td> 3.839e+06</td> <td> 1.89e+05</td> <td>   20.267</td> <td> 0.000</td> <td> 3.46e+06  4.22e+06</td>\n",
       "</tr>\n",
       "<tr>\n",
       "  <th>MoonIllumination</th> <td> 3.848e+04</td> <td> 3.31e+05</td> <td>    0.116</td> <td> 0.908</td> <td>-6.24e+05  7.01e+05</td>\n",
       "</tr>\n",
       "</table>\n",
       "<table class=\"simpletable\">\n",
       "<tr>\n",
       "  <th>Omnibus:</th>       <td>31.721</td> <th>  Durbin-Watson:     </th> <td>   1.292</td>\n",
       "</tr>\n",
       "<tr>\n",
       "  <th>Prob(Omnibus):</th> <td> 0.000</td> <th>  Jarque-Bera (JB):  </th> <td>  58.752</td>\n",
       "</tr>\n",
       "<tr>\n",
       "  <th>Skew:</th>          <td>-1.789</td> <th>  Prob(JB):          </th> <td>1.75e-13</td>\n",
       "</tr>\n",
       "<tr>\n",
       "  <th>Kurtosis:</th>      <td> 6.153</td> <th>  Cond. No.          </th> <td>    3.55</td>\n",
       "</tr>\n",
       "</table>"
      ],
      "text/plain": [
       "<class 'statsmodels.iolib.summary.Summary'>\n",
       "\"\"\"\n",
       "                            OLS Regression Results                            \n",
       "==============================================================================\n",
       "Dep. Variable:              Durations   R-squared:                       0.000\n",
       "Model:                            OLS   Adj. R-squared:                 -0.016\n",
       "Method:                 Least Squares   F-statistic:                   0.01348\n",
       "Date:                Sun, 04 Oct 2015   Prob (F-statistic):              0.908\n",
       "Time:                        23:14:08   Log-Likelihood:                -937.17\n",
       "No. Observations:                  62   AIC:                             1878.\n",
       "Df Residuals:                      60   BIC:                             1883.\n",
       "Df Model:                           1                                         \n",
       "Covariance Type:            nonrobust                                         \n",
       "====================================================================================\n",
       "                       coef    std err          t      P>|t|      [95.0% Conf. Int.]\n",
       "------------------------------------------------------------------------------------\n",
       "Intercept         3.839e+06   1.89e+05     20.267      0.000      3.46e+06  4.22e+06\n",
       "MoonIllumination  3.848e+04   3.31e+05      0.116      0.908     -6.24e+05  7.01e+05\n",
       "==============================================================================\n",
       "Omnibus:                       31.721   Durbin-Watson:                   1.292\n",
       "Prob(Omnibus):                  0.000   Jarque-Bera (JB):               58.752\n",
       "Skew:                          -1.789   Prob(JB):                     1.75e-13\n",
       "Kurtosis:                       6.153   Cond. No.                         3.55\n",
       "==============================================================================\n",
       "\n",
       "Warnings:\n",
       "[1] Standard Errors assume that the covariance matrix of the errors is correctly specified.\n",
       "\"\"\""
      ]
     },
     "execution_count": 12,
     "metadata": {},
     "output_type": "execute_result"
    },
    {
     "data": {
      "image/png": "[encoded data removed]",
      "text/plain": [
       "<matplotlib.figure.Figure at 0x10859ee10>"
      ]
     },
     "metadata": {},
     "output_type": "display_data"
    }
   ],
   "source": [
    "#Normalization of the data\n",
    "x1=(x-mean(x))/std(x)\n",
    "lm = smf.ols(formula='Durations ~ MoonIllumination', data = bike).fit()\n",
    "lmy = lm.predict(bike)\n",
    "xlabel('Moon Illumination')\n",
    "ylabel('Trip Duration')\n",
    "plt.plot(lmy,y,'or')\n",
    "plt.plot(lmy,lmy,'-b') \n",
    "lm.summary()"
   ]
  },
  {
   "cell_type": "markdown",
   "metadata": {},
   "source": [
    "<strong><H2>Conclusion</H2></strong>\n",
    "\n",
    "After the analysis of the data it is clear that the Moon Illumination doesn’t have a significant effect in trip durations"
   ]
  },
  {
   "cell_type": "code",
   "execution_count": null,
   "metadata": {
    "collapsed": true
   },
   "outputs": [],
   "source": []
  },
  {
   "cell_type": "code",
   "execution_count": null,
   "metadata": {
    "collapsed": true
   },
   "outputs": [],
   "source": []
  }
 ],
 "metadata": {
  "kernelspec": {
   "display_name": "Python 2",
   "language": "python",
   "name": "python2"
  },
  "language_info": {
   "codemirror_mode": {
    "name": "ipython",
    "version": 2
   },
   "file_extension": ".py",
   "mimetype": "text/x-python",
   "name": "python",
   "nbconvert_exporter": "python",
   "pygments_lexer": "ipython2",
   "version": "2.7.10"
  }
 },
 "nbformat": 4,
 "nbformat_minor": 0
}
